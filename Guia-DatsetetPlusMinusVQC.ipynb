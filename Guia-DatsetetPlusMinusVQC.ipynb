{
 "cells": [
  {
   "cell_type": "markdown",
   "id": "c3020a25",
   "metadata": {},
   "source": [
    "# PlusMinus VQC — Blind Quantum Computing\n",
    "\n",
    "Este notebook demonstra como treinar um modelo de Rede Neural Quântica (VQC)\n",
    "usando o Qiskit Machine Learning e circuitos gerados a partir do dataset PlusMinus."
   ]
  },
  {
   "cell_type": "code",
   "execution_count": 7,
   "id": "e6291a50",
   "metadata": {},
   "outputs": [
    {
     "name": "stdout",
     "output_type": "stream",
     "text": [
      "c:\\Users\\Dreysv\\Documents\\GitHub\\Hybrid_QML_with_BQC\\.venv\\Scripts\\python.exe\n",
      "Requirement already satisfied: pennylane in c:\\users\\dreysv\\documents\\github\\hybrid_qml_with_bqc\\.venv\\lib\\site-packages (0.42.3)\n",
      "Requirement already satisfied: scipy in c:\\users\\dreysv\\documents\\github\\hybrid_qml_with_bqc\\.venv\\lib\\site-packages (from pennylane) (1.14.1)\n",
      "Requirement already satisfied: networkx in c:\\users\\dreysv\\documents\\github\\hybrid_qml_with_bqc\\.venv\\lib\\site-packages (from pennylane) (3.3)\n",
      "Requirement already satisfied: rustworkx>=0.14.0 in c:\\users\\dreysv\\documents\\github\\hybrid_qml_with_bqc\\.venv\\lib\\site-packages (from pennylane) (0.15.1)\n",
      "Requirement already satisfied: autograd in c:\\users\\dreysv\\documents\\github\\hybrid_qml_with_bqc\\.venv\\lib\\site-packages (from pennylane) (1.8.0)\n",
      "Requirement already satisfied: appdirs in c:\\users\\dreysv\\documents\\github\\hybrid_qml_with_bqc\\.venv\\lib\\site-packages (from pennylane) (1.4.4)\n",
      "Requirement already satisfied: autoray<0.8,>=0.6.11 in c:\\users\\dreysv\\documents\\github\\hybrid_qml_with_bqc\\.venv\\lib\\site-packages (from pennylane) (0.7.2)\n",
      "Requirement already satisfied: cachetools in c:\\users\\dreysv\\documents\\github\\hybrid_qml_with_bqc\\.venv\\lib\\site-packages (from pennylane) (6.2.0)\n",
      "Requirement already satisfied: pennylane-lightning>=0.42 in c:\\users\\dreysv\\documents\\github\\hybrid_qml_with_bqc\\.venv\\lib\\site-packages (from pennylane) (0.42.0)\n",
      "Requirement already satisfied: requests in c:\\users\\dreysv\\documents\\github\\hybrid_qml_with_bqc\\.venv\\lib\\site-packages (from pennylane) (2.32.5)\n",
      "Requirement already satisfied: tomlkit in c:\\users\\dreysv\\documents\\github\\hybrid_qml_with_bqc\\.venv\\lib\\site-packages (from pennylane) (0.13.3)\n",
      "Requirement already satisfied: typing_extensions in c:\\users\\dreysv\\documents\\github\\hybrid_qml_with_bqc\\.venv\\lib\\site-packages (from pennylane) (4.12.2)\n",
      "Requirement already satisfied: packaging in c:\\users\\dreysv\\documents\\github\\hybrid_qml_with_bqc\\.venv\\lib\\site-packages (from pennylane) (24.1)\n",
      "Requirement already satisfied: diastatic-malt in c:\\users\\dreysv\\documents\\github\\hybrid_qml_with_bqc\\.venv\\lib\\site-packages (from pennylane) (2.15.2)\n",
      "Requirement already satisfied: numpy in c:\\users\\dreysv\\documents\\github\\hybrid_qml_with_bqc\\.venv\\lib\\site-packages (from pennylane) (2.1.0)\n",
      "Requirement already satisfied: scipy-openblas32>=0.3.26 in c:\\users\\dreysv\\documents\\github\\hybrid_qml_with_bqc\\.venv\\lib\\site-packages (from pennylane-lightning>=0.42->pennylane) (0.3.30.0.2)\n",
      "Requirement already satisfied: astunparse in c:\\users\\dreysv\\documents\\github\\hybrid_qml_with_bqc\\.venv\\lib\\site-packages (from diastatic-malt->pennylane) (1.6.3)\n",
      "Requirement already satisfied: gast in c:\\users\\dreysv\\documents\\github\\hybrid_qml_with_bqc\\.venv\\lib\\site-packages (from diastatic-malt->pennylane) (0.6.0)\n",
      "Requirement already satisfied: termcolor in c:\\users\\dreysv\\documents\\github\\hybrid_qml_with_bqc\\.venv\\lib\\site-packages (from diastatic-malt->pennylane) (3.1.0)\n",
      "Requirement already satisfied: wheel<1.0,>=0.23.0 in c:\\users\\dreysv\\documents\\github\\hybrid_qml_with_bqc\\.venv\\lib\\site-packages (from astunparse->diastatic-malt->pennylane) (0.45.1)\n",
      "Requirement already satisfied: six<2.0,>=1.6.1 in c:\\users\\dreysv\\documents\\github\\hybrid_qml_with_bqc\\.venv\\lib\\site-packages (from astunparse->diastatic-malt->pennylane) (1.16.0)\n",
      "Requirement already satisfied: charset_normalizer<4,>=2 in c:\\users\\dreysv\\documents\\github\\hybrid_qml_with_bqc\\.venv\\lib\\site-packages (from requests->pennylane) (3.4.3)\n",
      "Requirement already satisfied: idna<4,>=2.5 in c:\\users\\dreysv\\documents\\github\\hybrid_qml_with_bqc\\.venv\\lib\\site-packages (from requests->pennylane) (3.10)\n",
      "Requirement already satisfied: urllib3<3,>=1.21.1 in c:\\users\\dreysv\\documents\\github\\hybrid_qml_with_bqc\\.venv\\lib\\site-packages (from requests->pennylane) (2.5.0)\n",
      "Requirement already satisfied: certifi>=2017.4.17 in c:\\users\\dreysv\\documents\\github\\hybrid_qml_with_bqc\\.venv\\lib\\site-packages (from requests->pennylane) (2025.8.3)\n"
     ]
    }
   ],
   "source": [
    "import sys\n",
    "print(sys.executable)\n",
    "!{sys.executable} -m pip install pennylane\n"
   ]
  },
  {
   "cell_type": "code",
   "execution_count": 8,
   "id": "a231d241",
   "metadata": {},
   "outputs": [
    {
     "name": "stdout",
     "output_type": "stream",
     "text": [
      "Requirement already satisfied: qiskit in c:\\users\\dreysv\\documents\\github\\hybrid_qml_with_bqc\\.venv\\lib\\site-packages (1.2.4)\n",
      "Requirement already satisfied: qiskit-aer in c:\\users\\dreysv\\documents\\github\\hybrid_qml_with_bqc\\.venv\\lib\\site-packages (0.17.1)\n",
      "Requirement already satisfied: qiskit-machine-learning in c:\\users\\dreysv\\documents\\github\\hybrid_qml_with_bqc\\.venv\\lib\\site-packages (0.8.3)\n",
      "Requirement already satisfied: scikit-learn in c:\\users\\dreysv\\documents\\github\\hybrid_qml_with_bqc\\.venv\\lib\\site-packages (1.7.1)\n",
      "Requirement already satisfied: matplotlib in c:\\users\\dreysv\\documents\\github\\hybrid_qml_with_bqc\\.venv\\lib\\site-packages (3.9.2)\n",
      "Requirement already satisfied: numpy in c:\\users\\dreysv\\documents\\github\\hybrid_qml_with_bqc\\.venv\\lib\\site-packages (2.1.0)\n",
      "Requirement already satisfied: rustworkx>=0.15.0 in c:\\users\\dreysv\\documents\\github\\hybrid_qml_with_bqc\\.venv\\lib\\site-packages (from qiskit) (0.15.1)\n",
      "Requirement already satisfied: scipy>=1.5 in c:\\users\\dreysv\\documents\\github\\hybrid_qml_with_bqc\\.venv\\lib\\site-packages (from qiskit) (1.14.1)\n",
      "Requirement already satisfied: sympy>=1.3 in c:\\users\\dreysv\\documents\\github\\hybrid_qml_with_bqc\\.venv\\lib\\site-packages (from qiskit) (1.13.3)\n",
      "Requirement already satisfied: dill>=0.3 in c:\\users\\dreysv\\documents\\github\\hybrid_qml_with_bqc\\.venv\\lib\\site-packages (from qiskit) (0.3.9)\n",
      "Requirement already satisfied: python-dateutil>=2.8.0 in c:\\users\\dreysv\\documents\\github\\hybrid_qml_with_bqc\\.venv\\lib\\site-packages (from qiskit) (2.9.0.post0)\n",
      "Requirement already satisfied: stevedore>=3.0.0 in c:\\users\\dreysv\\documents\\github\\hybrid_qml_with_bqc\\.venv\\lib\\site-packages (from qiskit) (5.3.0)\n",
      "Requirement already satisfied: typing-extensions in c:\\users\\dreysv\\documents\\github\\hybrid_qml_with_bqc\\.venv\\lib\\site-packages (from qiskit) (4.12.2)\n",
      "Requirement already satisfied: symengine<0.14,>=0.11 in c:\\users\\dreysv\\documents\\github\\hybrid_qml_with_bqc\\.venv\\lib\\site-packages (from qiskit) (0.13.0)\n",
      "Requirement already satisfied: psutil>=5 in c:\\users\\dreysv\\documents\\github\\hybrid_qml_with_bqc\\.venv\\lib\\site-packages (from qiskit-aer) (6.0.0)\n",
      "Requirement already satisfied: setuptools>=40.1 in c:\\users\\dreysv\\documents\\github\\hybrid_qml_with_bqc\\.venv\\lib\\site-packages (from qiskit-machine-learning) (65.5.0)\n",
      "Requirement already satisfied: joblib>=1.2.0 in c:\\users\\dreysv\\documents\\github\\hybrid_qml_with_bqc\\.venv\\lib\\site-packages (from scikit-learn) (1.5.2)\n",
      "Requirement already satisfied: threadpoolctl>=3.1.0 in c:\\users\\dreysv\\documents\\github\\hybrid_qml_with_bqc\\.venv\\lib\\site-packages (from scikit-learn) (3.6.0)\n",
      "Requirement already satisfied: contourpy>=1.0.1 in c:\\users\\dreysv\\documents\\github\\hybrid_qml_with_bqc\\.venv\\lib\\site-packages (from matplotlib) (1.3.0)\n",
      "Requirement already satisfied: cycler>=0.10 in c:\\users\\dreysv\\documents\\github\\hybrid_qml_with_bqc\\.venv\\lib\\site-packages (from matplotlib) (0.12.1)\n",
      "Requirement already satisfied: fonttools>=4.22.0 in c:\\users\\dreysv\\documents\\github\\hybrid_qml_with_bqc\\.venv\\lib\\site-packages (from matplotlib) (4.53.1)\n",
      "Requirement already satisfied: kiwisolver>=1.3.1 in c:\\users\\dreysv\\documents\\github\\hybrid_qml_with_bqc\\.venv\\lib\\site-packages (from matplotlib) (1.4.5)\n",
      "Requirement already satisfied: packaging>=20.0 in c:\\users\\dreysv\\documents\\github\\hybrid_qml_with_bqc\\.venv\\lib\\site-packages (from matplotlib) (24.1)\n",
      "Requirement already satisfied: pillow>=8 in c:\\users\\dreysv\\documents\\github\\hybrid_qml_with_bqc\\.venv\\lib\\site-packages (from matplotlib) (10.4.0)\n",
      "Requirement already satisfied: pyparsing>=2.3.1 in c:\\users\\dreysv\\documents\\github\\hybrid_qml_with_bqc\\.venv\\lib\\site-packages (from matplotlib) (3.1.4)\n",
      "Requirement already satisfied: six>=1.5 in c:\\users\\dreysv\\documents\\github\\hybrid_qml_with_bqc\\.venv\\lib\\site-packages (from python-dateutil>=2.8.0->qiskit) (1.16.0)\n",
      "Requirement already satisfied: pbr>=2.0.0 in c:\\users\\dreysv\\documents\\github\\hybrid_qml_with_bqc\\.venv\\lib\\site-packages (from stevedore>=3.0.0->qiskit) (6.1.0)\n",
      "Requirement already satisfied: mpmath<1.4,>=1.1.0 in c:\\users\\dreysv\\documents\\github\\hybrid_qml_with_bqc\\.venv\\lib\\site-packages (from sympy>=1.3->qiskit) (1.3.0)\n",
      "Requirement already satisfied: qiskit-machine-learning in c:\\users\\dreysv\\documents\\github\\hybrid_qml_with_bqc\\.venv\\lib\\site-packages (0.8.3)\n",
      "Requirement already satisfied: qiskit<2.0,>=1.0 in c:\\users\\dreysv\\documents\\github\\hybrid_qml_with_bqc\\.venv\\lib\\site-packages (from qiskit-machine-learning) (1.2.4)\n",
      "Requirement already satisfied: numpy>=2.0 in c:\\users\\dreysv\\documents\\github\\hybrid_qml_with_bqc\\.venv\\lib\\site-packages (from qiskit-machine-learning) (2.1.0)\n",
      "Requirement already satisfied: scipy>=1.4 in c:\\users\\dreysv\\documents\\github\\hybrid_qml_with_bqc\\.venv\\lib\\site-packages (from qiskit-machine-learning) (1.14.1)\n",
      "Requirement already satisfied: scikit-learn>=1.2 in c:\\users\\dreysv\\documents\\github\\hybrid_qml_with_bqc\\.venv\\lib\\site-packages (from qiskit-machine-learning) (1.7.1)\n",
      "Requirement already satisfied: setuptools>=40.1 in c:\\users\\dreysv\\documents\\github\\hybrid_qml_with_bqc\\.venv\\lib\\site-packages (from qiskit-machine-learning) (65.5.0)\n",
      "Requirement already satisfied: dill>=0.3.4 in c:\\users\\dreysv\\documents\\github\\hybrid_qml_with_bqc\\.venv\\lib\\site-packages (from qiskit-machine-learning) (0.3.9)\n",
      "Requirement already satisfied: rustworkx>=0.15.0 in c:\\users\\dreysv\\documents\\github\\hybrid_qml_with_bqc\\.venv\\lib\\site-packages (from qiskit<2.0,>=1.0->qiskit-machine-learning) (0.15.1)\n",
      "Requirement already satisfied: sympy>=1.3 in c:\\users\\dreysv\\documents\\github\\hybrid_qml_with_bqc\\.venv\\lib\\site-packages (from qiskit<2.0,>=1.0->qiskit-machine-learning) (1.13.3)\n",
      "Requirement already satisfied: python-dateutil>=2.8.0 in c:\\users\\dreysv\\documents\\github\\hybrid_qml_with_bqc\\.venv\\lib\\site-packages (from qiskit<2.0,>=1.0->qiskit-machine-learning) (2.9.0.post0)\n",
      "Requirement already satisfied: stevedore>=3.0.0 in c:\\users\\dreysv\\documents\\github\\hybrid_qml_with_bqc\\.venv\\lib\\site-packages (from qiskit<2.0,>=1.0->qiskit-machine-learning) (5.3.0)\n",
      "Requirement already satisfied: typing-extensions in c:\\users\\dreysv\\documents\\github\\hybrid_qml_with_bqc\\.venv\\lib\\site-packages (from qiskit<2.0,>=1.0->qiskit-machine-learning) (4.12.2)\n",
      "Requirement already satisfied: symengine<0.14,>=0.11 in c:\\users\\dreysv\\documents\\github\\hybrid_qml_with_bqc\\.venv\\lib\\site-packages (from qiskit<2.0,>=1.0->qiskit-machine-learning) (0.13.0)\n",
      "Requirement already satisfied: six>=1.5 in c:\\users\\dreysv\\documents\\github\\hybrid_qml_with_bqc\\.venv\\lib\\site-packages (from python-dateutil>=2.8.0->qiskit<2.0,>=1.0->qiskit-machine-learning) (1.16.0)\n",
      "Requirement already satisfied: joblib>=1.2.0 in c:\\users\\dreysv\\documents\\github\\hybrid_qml_with_bqc\\.venv\\lib\\site-packages (from scikit-learn>=1.2->qiskit-machine-learning) (1.5.2)\n",
      "Requirement already satisfied: threadpoolctl>=3.1.0 in c:\\users\\dreysv\\documents\\github\\hybrid_qml_with_bqc\\.venv\\lib\\site-packages (from scikit-learn>=1.2->qiskit-machine-learning) (3.6.0)\n",
      "Requirement already satisfied: pbr>=2.0.0 in c:\\users\\dreysv\\documents\\github\\hybrid_qml_with_bqc\\.venv\\lib\\site-packages (from stevedore>=3.0.0->qiskit<2.0,>=1.0->qiskit-machine-learning) (6.1.0)\n",
      "Requirement already satisfied: mpmath<1.4,>=1.1.0 in c:\\users\\dreysv\\documents\\github\\hybrid_qml_with_bqc\\.venv\\lib\\site-packages (from sympy>=1.3->qiskit<2.0,>=1.0->qiskit-machine-learning) (1.3.0)\n",
      "Requirement already satisfied: qiskit-algorithms in c:\\users\\dreysv\\documents\\github\\hybrid_qml_with_bqc\\.venv\\lib\\site-packages (0.4.0)\n",
      "Requirement already satisfied: qiskit>=1.0 in c:\\users\\dreysv\\documents\\github\\hybrid_qml_with_bqc\\.venv\\lib\\site-packages (from qiskit-algorithms) (1.2.4)\n",
      "Requirement already satisfied: scipy>=1.4 in c:\\users\\dreysv\\documents\\github\\hybrid_qml_with_bqc\\.venv\\lib\\site-packages (from qiskit-algorithms) (1.14.1)\n",
      "Requirement already satisfied: numpy>=1.17 in c:\\users\\dreysv\\documents\\github\\hybrid_qml_with_bqc\\.venv\\lib\\site-packages (from qiskit-algorithms) (2.1.0)\n",
      "Requirement already satisfied: rustworkx>=0.15.0 in c:\\users\\dreysv\\documents\\github\\hybrid_qml_with_bqc\\.venv\\lib\\site-packages (from qiskit>=1.0->qiskit-algorithms) (0.15.1)\n",
      "Requirement already satisfied: sympy>=1.3 in c:\\users\\dreysv\\documents\\github\\hybrid_qml_with_bqc\\.venv\\lib\\site-packages (from qiskit>=1.0->qiskit-algorithms) (1.13.3)\n",
      "Requirement already satisfied: dill>=0.3 in c:\\users\\dreysv\\documents\\github\\hybrid_qml_with_bqc\\.venv\\lib\\site-packages (from qiskit>=1.0->qiskit-algorithms) (0.3.9)\n",
      "Requirement already satisfied: python-dateutil>=2.8.0 in c:\\users\\dreysv\\documents\\github\\hybrid_qml_with_bqc\\.venv\\lib\\site-packages (from qiskit>=1.0->qiskit-algorithms) (2.9.0.post0)\n",
      "Requirement already satisfied: stevedore>=3.0.0 in c:\\users\\dreysv\\documents\\github\\hybrid_qml_with_bqc\\.venv\\lib\\site-packages (from qiskit>=1.0->qiskit-algorithms) (5.3.0)\n",
      "Requirement already satisfied: typing-extensions in c:\\users\\dreysv\\documents\\github\\hybrid_qml_with_bqc\\.venv\\lib\\site-packages (from qiskit>=1.0->qiskit-algorithms) (4.12.2)\n",
      "Requirement already satisfied: symengine<0.14,>=0.11 in c:\\users\\dreysv\\documents\\github\\hybrid_qml_with_bqc\\.venv\\lib\\site-packages (from qiskit>=1.0->qiskit-algorithms) (0.13.0)\n",
      "Requirement already satisfied: six>=1.5 in c:\\users\\dreysv\\documents\\github\\hybrid_qml_with_bqc\\.venv\\lib\\site-packages (from python-dateutil>=2.8.0->qiskit>=1.0->qiskit-algorithms) (1.16.0)\n",
      "Requirement already satisfied: pbr>=2.0.0 in c:\\users\\dreysv\\documents\\github\\hybrid_qml_with_bqc\\.venv\\lib\\site-packages (from stevedore>=3.0.0->qiskit>=1.0->qiskit-algorithms) (6.1.0)\n",
      "Requirement already satisfied: mpmath<1.4,>=1.1.0 in c:\\users\\dreysv\\documents\\github\\hybrid_qml_with_bqc\\.venv\\lib\\site-packages (from sympy>=1.3->qiskit>=1.0->qiskit-algorithms) (1.3.0)\n"
     ]
    },
    {
     "name": "stderr",
     "output_type": "stream",
     "text": [
      "ERROR: Could not find a version that satisfies the requirement pennylane-datasets (from versions: none)\n",
      "ERROR: No matching distribution found for pennylane-datasets\n"
     ]
    }
   ],
   "source": [
    "#Instale as dependências \n",
    "!pip install qiskit qiskit-aer qiskit-machine-learning scikit-learn matplotlib numpy\n",
    "!pip install qiskit-machine-learning\n",
    "!pip install qiskit-algorithms\n",
    "!pip install pennylane-datasets pennylane"
   ]
  },
  {
   "cell_type": "code",
   "execution_count": 9,
   "id": "51ed1510",
   "metadata": {},
   "outputs": [],
   "source": [
    "\n",
    "import random\n",
    "import numpy as np\n",
    "import pennylane as qml\n",
    "from sklearn.model_selection import train_test_split\n",
    "from sklearn.preprocessing import MinMaxScaler\n",
    "from sklearn.metrics import accuracy_score, classification_report\n",
    "\n",
    "from qiskit import QuantumCircuit, transpile\n",
    "from qiskit.circuit.library import ZZFeatureMap, RealAmplitudes\n",
    "from qiskit.primitives import Sampler\n",
    "from qiskit_machine_learning.neural_networks import SamplerQNN\n",
    "from qiskit_machine_learning.algorithms.classifiers import NeuralNetworkClassifier\n",
    "#from qiskit_machine_learning.utils.loss_functions import CrossEntropyLoss\n",
    "from qiskit_algorithms.optimizers import COBYLA\n",
    "\n",
    "from qiskit_aer import AerSimulator\n",
    "from qiskit_aer.noise import NoiseModel, depolarizing_error\n"
   ]
  },
  {
   "cell_type": "markdown",
   "id": "4d0cd0a2",
   "metadata": {},
   "source": [
    "# Controle de Aleatoriedade e Reprodutibilidade"
   ]
  },
  {
   "cell_type": "code",
   "execution_count": 10,
   "id": "5687000d",
   "metadata": {},
   "outputs": [],
   "source": [
    "\n",
    "SEED = 42\n",
    "random.seed(SEED)\n",
    "np.random.seed(SEED)\n",
    "try:\n",
    "    from qiskit_algorithms.utils import algorithm_globals\n",
    "    algorithm_globals.random_seed = SEED\n",
    "except ImportError:\n",
    "    pass"
   ]
  },
  {
   "cell_type": "markdown",
   "id": "47fff775",
   "metadata": {},
   "source": [
    "# Backend"
   ]
  },
  {
   "cell_type": "code",
   "execution_count": 11,
   "id": "8b6d65a0",
   "metadata": {},
   "outputs": [],
   "source": [
    "\n",
    "noise_model = NoiseModel()\n",
    "error_1q = depolarizing_error(0.01, 1)\n",
    "error_2q = depolarizing_error(0.02, 2)\n",
    "noise_model.add_all_qubit_quantum_error(error_1q, ['h','x','y','z','rx','ry','rz','s','sdg','t','tdg'])\n",
    "noise_model.add_all_qubit_quantum_error(error_2q, ['cx','cz','swap'])\n",
    "\n",
    "simulator = AerSimulator(noise_model=noise_model, shots=128, method='matrix_product_state')\n"
   ]
  },
  {
   "cell_type": "markdown",
   "id": "80ea0fd2",
   "metadata": {},
   "source": [
    "# Função da Rede"
   ]
  },
  {
   "cell_type": "code",
   "execution_count": 12,
   "id": "21f572f0",
   "metadata": {},
   "outputs": [],
   "source": [
    "def enviar_circuito_por_epoca(circuito, epoch, num_qubits, circuit_depth):\n",
    "    print(f\"[Epoch {epoch+1}] Enviando circuito para a rede...\")\n",
    "    try:\n",
    "        rede.application_layer.run_app(\n",
    "            \"BFK_BQC\",\n",
    "            alice_id=6,\n",
    "            bob_id=0,\n",
    "            num_qubits=num_qubits,\n",
    "            scenario=2,\n",
    "            circuit_depth=circuit_depth,\n",
    "            circuit=circuito\n",
    "        )\n",
    "        print(f\"[Epoch {epoch+1}] Envio concluído.\")\n",
    "    except Exception as e:\n",
    "        print(f\"[Epoch {epoch+1}] Erro ao enviar circuito: {str(e)}\")"
   ]
  },
  {
   "cell_type": "markdown",
   "id": "e661005c",
   "metadata": {},
   "source": [
    "# Carregar e preparar o dataset Plus-Minus"
   ]
  },
  {
   "cell_type": "code",
   "execution_count": 14,
   "id": "68f8d421",
   "metadata": {},
   "outputs": [
    {
     "name": "stdout",
     "output_type": "stream",
     "text": [
      "Collecting aiohttp\n",
      "  Downloading aiohttp-3.12.15-cp311-cp311-win_amd64.whl.metadata (7.9 kB)\n",
      "Collecting fsspec\n",
      "  Downloading fsspec-2025.9.0-py3-none-any.whl.metadata (10 kB)\n",
      "Collecting h5py\n",
      "  Downloading h5py-3.14.0-cp311-cp311-win_amd64.whl.metadata (2.7 kB)\n",
      "Collecting aiohappyeyeballs>=2.5.0 (from aiohttp)\n",
      "  Downloading aiohappyeyeballs-2.6.1-py3-none-any.whl.metadata (5.9 kB)\n",
      "Collecting aiosignal>=1.4.0 (from aiohttp)\n",
      "  Downloading aiosignal-1.4.0-py3-none-any.whl.metadata (3.7 kB)\n",
      "Collecting attrs>=17.3.0 (from aiohttp)\n",
      "  Downloading attrs-25.3.0-py3-none-any.whl.metadata (10 kB)\n",
      "Collecting frozenlist>=1.1.1 (from aiohttp)\n",
      "  Downloading frozenlist-1.7.0-cp311-cp311-win_amd64.whl.metadata (19 kB)\n",
      "Collecting multidict<7.0,>=4.5 (from aiohttp)\n",
      "  Downloading multidict-6.6.4-cp311-cp311-win_amd64.whl.metadata (5.4 kB)\n",
      "Collecting propcache>=0.2.0 (from aiohttp)\n",
      "  Downloading propcache-0.3.2-cp311-cp311-win_amd64.whl.metadata (12 kB)\n",
      "Collecting yarl<2.0,>=1.17.0 (from aiohttp)\n",
      "  Downloading yarl-1.20.1-cp311-cp311-win_amd64.whl.metadata (76 kB)\n",
      "Requirement already satisfied: idna>=2.0 in c:\\users\\dreysv\\documents\\github\\hybrid_qml_with_bqc\\.venv\\lib\\site-packages (from yarl<2.0,>=1.17.0->aiohttp) (3.10)\n",
      "Requirement already satisfied: numpy>=1.19.3 in c:\\users\\dreysv\\documents\\github\\hybrid_qml_with_bqc\\.venv\\lib\\site-packages (from h5py) (2.1.0)\n",
      "Requirement already satisfied: typing-extensions>=4.2 in c:\\users\\dreysv\\documents\\github\\hybrid_qml_with_bqc\\.venv\\lib\\site-packages (from aiosignal>=1.4.0->aiohttp) (4.12.2)\n",
      "Downloading aiohttp-3.12.15-cp311-cp311-win_amd64.whl (453 kB)\n",
      "Downloading multidict-6.6.4-cp311-cp311-win_amd64.whl (46 kB)\n",
      "Downloading yarl-1.20.1-cp311-cp311-win_amd64.whl (86 kB)\n",
      "Downloading fsspec-2025.9.0-py3-none-any.whl (199 kB)\n",
      "Downloading h5py-3.14.0-cp311-cp311-win_amd64.whl (2.9 MB)\n",
      "   ---------------------------------------- 0.0/2.9 MB ? eta -:--:--\n",
      "   ---------------------------------------- 2.9/2.9 MB 15.2 MB/s  0:00:00\n",
      "Downloading aiohappyeyeballs-2.6.1-py3-none-any.whl (15 kB)\n",
      "Downloading aiosignal-1.4.0-py3-none-any.whl (7.5 kB)\n",
      "Downloading attrs-25.3.0-py3-none-any.whl (63 kB)\n",
      "Downloading frozenlist-1.7.0-cp311-cp311-win_amd64.whl (44 kB)\n",
      "Downloading propcache-0.3.2-cp311-cp311-win_amd64.whl (41 kB)\n",
      "Installing collected packages: propcache, multidict, h5py, fsspec, frozenlist, attrs, aiohappyeyeballs, yarl, aiosignal, aiohttp\n",
      "\n",
      "   -------- -------------------------------  2/10 [h5py]\n",
      "   -------- -------------------------------  2/10 [h5py]\n",
      "   -------- -------------------------------  2/10 [h5py]\n",
      "   -------- -------------------------------  2/10 [h5py]\n",
      "   -------- -------------------------------  2/10 [h5py]\n",
      "   -------- -------------------------------  2/10 [h5py]\n",
      "   ------------ ---------------------------  3/10 [fsspec]\n",
      "   ------------ ---------------------------  3/10 [fsspec]\n",
      "   ------------ ---------------------------  3/10 [fsspec]\n",
      "   ------------ ---------------------------  3/10 [fsspec]\n",
      "   ------------ ---------------------------  3/10 [fsspec]\n",
      "   -------------------- -------------------  5/10 [attrs]\n",
      "   -------------------- -------------------  5/10 [attrs]\n",
      "   ---------------------------- -----------  7/10 [yarl]\n",
      "   ------------------------------------ ---  9/10 [aiohttp]\n",
      "   ------------------------------------ ---  9/10 [aiohttp]\n",
      "   ------------------------------------ ---  9/10 [aiohttp]\n",
      "   ------------------------------------ ---  9/10 [aiohttp]\n",
      "   ------------------------------------ ---  9/10 [aiohttp]\n",
      "   ---------------------------------------- 10/10 [aiohttp]\n",
      "\n",
      "Successfully installed aiohappyeyeballs-2.6.1 aiohttp-3.12.15 aiosignal-1.4.0 attrs-25.3.0 frozenlist-1.7.0 fsspec-2025.9.0 h5py-3.14.0 multidict-6.6.4 propcache-0.3.2 yarl-1.20.1\n"
     ]
    }
   ],
   "source": [
    "!pip install aiohttp fsspec h5py\n",
    "[ds] = qml.data.load(\"plus-minus\")\n",
    "\n",
    "X = ds.img_train\n",
    "y = ds.labels_train\n",
    "X_test = ds.img_test\n",
    "y_test = ds.labels_test\n",
    "\n",
    "from sklearn.decomposition import PCA\n",
    "# Flatten das imagens: (n_amostras, altura*largura)\n",
    "X = X.reshape((X.shape[0], -1))\n",
    "X_test = X_test.reshape((X_test.shape[0], -1))\n",
    "\n",
    "# PCA reduzindo para 4 dimensões (4 qubits)\n",
    "pca = PCA(n_components=4, random_state=SEED)\n",
    "X = pca.fit_transform(X)\n",
    "X_test = pca.transform(X_test)\n",
    "#\n",
    "\n",
    "X = X.reshape((X.shape[0], -1))\n",
    "X_test = X_test.reshape((X_test.shape[0], -1))\n",
    "scaler = MinMaxScaler((0,1))\n",
    "X = scaler.fit_transform(X)\n",
    "X_test = scaler.transform(X_test)\n",
    "\n",
    "X_train, X_val, y_train, y_val = train_test_split(\n",
    "    X, y, test_size=0.2, random_state=SEED, stratify=y\n",
    ")"
   ]
  },
  {
   "cell_type": "markdown",
   "id": "abe0b822",
   "metadata": {},
   "source": [
    "# VQC"
   ]
  },
  {
   "cell_type": "code",
   "execution_count": 15,
   "id": "a76b5845",
   "metadata": {},
   "outputs": [
    {
     "name": "stderr",
     "output_type": "stream",
     "text": [
      "C:\\Users\\Dreysv\\AppData\\Local\\Temp\\ipykernel_9340\\691303636.py:13: DeprecationWarning: The class ``qiskit.primitives.sampler.Sampler`` is deprecated as of qiskit 1.2. It will be removed no earlier than 3 months after the release date. All implementations of the `BaseSamplerV1` interface have been deprecated in favor of their V2 counterparts. The V2 alternative for the `Sampler` class is `StatevectorSampler`.\n",
      "  sampler = Sampler(options={\"backend\": simulator})\n",
      "C:\\Users\\Dreysv\\AppData\\Local\\Temp\\ipykernel_9340\\691303636.py:15: DeprecationWarning: V1 Primitives are deprecated as of qiskit-machine-learning 0.8.0 and will be removed no sooner than 4 months after the release date. Use V2 primitives for continued compatibility and support.\n",
      "  qnn = SamplerQNN(\n"
     ]
    }
   ],
   "source": [
    "num_classes = len(np.unique(y))\n",
    "num_qubits = X.shape[1]\n",
    "\n",
    "feature_map = ZZFeatureMap(num_qubits, reps=1)\n",
    "ansatz = RealAmplitudes(num_qubits, reps=1)\n",
    "qc = QuantumCircuit(num_qubits)\n",
    "qc.compose(feature_map, inplace=True)\n",
    "qc.compose(ansatz, inplace=True)\n",
    "\n",
    "def interpret(x):\n",
    "    return x % num_classes\n",
    "\n",
    "sampler = Sampler(options={\"backend\": simulator})\n",
    "\n",
    "qnn = SamplerQNN(\n",
    "    circuit=qc,\n",
    "    sampler=sampler,\n",
    "    input_params=feature_map.parameters,\n",
    "    weight_params=ansatz.parameters,\n",
    "    interpret=interpret,\n",
    "    output_shape=num_classes,\n",
    ")\n",
    "\n",
    "\n",
    "vqc = NeuralNetworkClassifier(\n",
    "    neural_network=qnn,\n",
    "    optimizer=COBYLA(maxiter=1),  # rodar uma iteração por \"epoch\"\n",
    "    loss=CrossEntropyLoss(),\n",
    "    one_hot=True,\n",
    "    callback=lambda weights, loss, step: enviar_circuito_por_epoca(\n",
    "        qc.assign_parameters(weights), step\n",
    "    ),\n",
    ")"
   ]
  },
  {
   "cell_type": "markdown",
   "id": "1e0e12b8",
   "metadata": {},
   "source": [
    "# Treianmento e Métricas"
   ]
  },
  {
   "cell_type": "code",
   "execution_count": 16,
   "id": "51952d66",
   "metadata": {},
   "outputs": [
    {
     "name": "stdout",
     "output_type": "stream",
     "text": [
      "\n",
      "TREINANDO VQC...\n",
      "[Epoch 1] Accuracy validação: 0.3550\n",
      "[Epoch 2] Accuracy validação: 0.3550\n",
      "[Epoch 3] Accuracy validação: 0.3550\n",
      "\n",
      "RESULTADOS FINAIS NO TESTE:\n",
      "Acurácia: 0.395\n",
      "              precision    recall  f1-score   support\n",
      "\n",
      "           0       0.35      0.66      0.46        50\n",
      "           1       0.29      0.08      0.12        50\n",
      "           2       0.45      0.76      0.56        50\n",
      "           3       0.50      0.08      0.14        50\n",
      "\n",
      "    accuracy                           0.40       200\n",
      "   macro avg       0.40      0.40      0.32       200\n",
      "weighted avg       0.40      0.40      0.32       200\n",
      "\n"
     ]
    }
   ],
   "source": [
    "\n",
    "EPOCHS = 3\n",
    "print(\"\\nTREINANDO VQC...\")\n",
    "\n",
    "for epoch in range(EPOCHS):\n",
    "    vqc.fit(X_train, y_train)\n",
    "\n",
    "    y_pred_val = vqc.predict(X_val)\n",
    "    acc_val = accuracy_score(y_val, y_pred_val)\n",
    "    print(f\"[Epoch {epoch+1}] Accuracy validação: {acc_val:.4f}\")\n",
    "\n",
    "y_pred_test = vqc.predict(X_test)\n",
    "print(\"\\nRESULTADOS FINAIS NO TESTE:\")\n",
    "print(\"Acurácia:\", accuracy_score(y_test, y_pred_test))\n",
    "print(classification_report(y_test, y_pred_test))\n"
   ]
  }
 ],
 "metadata": {
  "kernelspec": {
   "display_name": ".venv",
   "language": "python",
   "name": "python3"
  },
  "language_info": {
   "codemirror_mode": {
    "name": "ipython",
    "version": 3
   },
   "file_extension": ".py",
   "mimetype": "text/x-python",
   "name": "python",
   "nbconvert_exporter": "python",
   "pygments_lexer": "ipython3",
   "version": "3.11.9"
  }
 },
 "nbformat": 4,
 "nbformat_minor": 5
}
