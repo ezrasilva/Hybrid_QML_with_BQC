{
 "cells": [
  {
   "cell_type": "markdown",
   "id": "c3020a25",
   "metadata": {},
   "source": [
    "# PlusMinus VQC — Blind Quantum Computing\n",
    "\n",
    "Este notebook demonstra como treinar um modelo de Rede Neural Quântica (VQC)\n",
    "usando o Qiskit Machine Learning e circuitos gerados a partir do dataset PlusMinus."
   ]
  },
  {
   "cell_type": "code",
   "execution_count": null,
   "id": "a231d241",
   "metadata": {},
   "outputs": [],
   "source": [
    "#Instale as dependências \n",
    "!pip install qiskit qiskit-aer qiskit-machine-learning scikit-learn matplotlib numpy\n",
    "!pip install qiskit-machine-learning\n",
    "!pip install qiskit-algorithms pennylane"
   ]
  },
  {
   "cell_type": "code",
   "execution_count": null,
   "id": "51ed1510",
   "metadata": {},
   "outputs": [],
   "source": [
    "\n",
    "import random\n",
    "import numpy as np\n",
    "import pennylane as qml\n",
    "from sklearn.model_selection import train_test_split\n",
    "from sklearn.preprocessing import MinMaxScaler\n",
    "from sklearn.metrics import accuracy_score, classification_report\n",
    "\n",
    "from qiskit import QuantumCircuit, transpile\n",
    "from qiskit.circuit.library import ZZFeatureMap, RealAmplitudes\n",
    "from qiskit.primitives import Sampler\n",
    "from qiskit_machine_learning.neural_networks import SamplerQNN\n",
    "from qiskit_machine_learning.algorithms.classifiers import NeuralNetworkClassifier\n",
    "from qiskit_machine_learning.utils.loss_functions import CrossEntropyLoss\n",
    "from qiskit_algorithms.optimizers import COBYLA\n",
    "\n",
    "from qiskit_aer import AerSimulator\n",
    "from qiskit_aer.noise import NoiseModel, depolarizing_error\n"
   ]
  },
  {
   "cell_type": "markdown",
   "id": "4d0cd0a2",
   "metadata": {},
   "source": [
    "# Controle de Aleatoriedade e Reprodutibilidade"
   ]
  },
  {
   "cell_type": "code",
   "execution_count": null,
   "id": "5687000d",
   "metadata": {},
   "outputs": [],
   "source": [
    "\n",
    "SEED = 42\n",
    "random.seed(SEED)\n",
    "np.random.seed(SEED)\n",
    "try:\n",
    "    from qiskit_algorithms.utils import algorithm_globals\n",
    "    algorithm_globals.random_seed = SEED\n",
    "except ImportError:\n",
    "    pass"
   ]
  },
  {
   "cell_type": "markdown",
   "id": "47fff775",
   "metadata": {},
   "source": [
    "# Backend"
   ]
  },
  {
   "cell_type": "code",
   "execution_count": null,
   "id": "8b6d65a0",
   "metadata": {},
   "outputs": [],
   "source": [
    "\n",
    "noise_model = NoiseModel()\n",
    "error_1q = depolarizing_error(0.01, 1)\n",
    "error_2q = depolarizing_error(0.02, 2)\n",
    "noise_model.add_all_qubit_quantum_error(error_1q, ['h','x','y','z','rx','ry','rz','s','sdg','t','tdg'])\n",
    "noise_model.add_all_qubit_quantum_error(error_2q, ['cx','cz','swap'])\n",
    "\n",
    "simulator = AerSimulator(noise_model=noise_model, shots=128, method='matrix_product_state')\n"
   ]
  },
  {
   "cell_type": "markdown",
   "id": "80ea0fd2",
   "metadata": {},
   "source": [
    "# Função da Rede"
   ]
  },
  {
   "cell_type": "code",
   "execution_count": null,
   "id": "21f572f0",
   "metadata": {},
   "outputs": [],
   "source": [
    "def enviar_circuito_por_epoca(circuito, epoch, num_qubits, circuit_depth):\n",
    "    print(f\"[Epoch {epoch+1}] Enviando circuito para a rede...\")\n",
    "    try:\n",
    "        rede.application_layer.run_app(\n",
    "            \"BFK_BQC\",\n",
    "            alice_id=6,\n",
    "            bob_id=0,\n",
    "            num_qubits=num_qubits,\n",
    "            scenario=2,\n",
    "            circuit_depth=circuit_depth,\n",
    "            circuit=circuito\n",
    "        )\n",
    "        print(f\"[Epoch {epoch+1}] Envio concluído.\")\n",
    "    except Exception as e:\n",
    "        print(f\"[Epoch {epoch+1}] Erro ao enviar circuito: {str(e)}\")"
   ]
  },
  {
   "cell_type": "markdown",
   "id": "e661005c",
   "metadata": {},
   "source": [
    "# Carregar e preparar o dataset Plus-Minus"
   ]
  },
  {
   "cell_type": "code",
   "execution_count": null,
   "id": "68f8d421",
   "metadata": {},
   "outputs": [],
   "source": [
    "\n",
    "[ds] = qml.data.load(\"plus-minus\")\n",
    "\n",
    "X = ds.img_train\n",
    "y = ds.labels_train\n",
    "X_test = ds.img_test\n",
    "y_test = ds.labels_test\n",
    "\n",
    "from sklearn.decomposition import PCA\n",
    "# Flatten das imagens: (n_amostras, altura*largura)\n",
    "X = X.reshape((X.shape[0], -1))\n",
    "X_test = X_test.reshape((X_test.shape[0], -1))\n",
    "\n",
    "# PCA reduzindo para 4 dimensões (4 qubits)\n",
    "pca = PCA(n_components=4, random_state=SEED)\n",
    "X = pca.fit_transform(X)\n",
    "X_test = pca.transform(X_test)\n",
    "#\n",
    "\n",
    "X = X.reshape((X.shape[0], -1))\n",
    "X_test = X_test.reshape((X_test.shape[0], -1))\n",
    "scaler = MinMaxScaler((0,1))\n",
    "X = scaler.fit_transform(X)\n",
    "X_test = scaler.transform(X_test)\n",
    "\n",
    "X_train, X_val, y_train, y_val = train_test_split(\n",
    "    X, y, test_size=0.2, random_state=SEED, stratify=y\n",
    ")"
   ]
  },
  {
   "cell_type": "markdown",
   "id": "abe0b822",
   "metadata": {},
   "source": [
    "# VQC"
   ]
  },
  {
   "cell_type": "code",
   "execution_count": null,
   "id": "a76b5845",
   "metadata": {},
   "outputs": [],
   "source": [
    "num_classes = len(np.unique(y))\n",
    "num_qubits = X.shape[1]\n",
    "\n",
    "feature_map = ZZFeatureMap(num_qubits, reps=1)\n",
    "ansatz = RealAmplitudes(num_qubits, reps=1)\n",
    "qc = QuantumCircuit(num_qubits)\n",
    "qc.compose(feature_map, inplace=True)\n",
    "qc.compose(ansatz, inplace=True)\n",
    "\n",
    "def interpret(x):\n",
    "    return x % num_classes\n",
    "\n",
    "sampler = Sampler(options={\"backend\": simulator})\n",
    "\n",
    "qnn = SamplerQNN(\n",
    "    circuit=qc,\n",
    "    sampler=sampler,\n",
    "    input_params=feature_map.parameters,\n",
    "    weight_params=ansatz.parameters,\n",
    "    interpret=interpret,\n",
    "    output_shape=num_classes,\n",
    ")\n",
    "\n",
    "\n",
    "vqc = NeuralNetworkClassifier(\n",
    "    neural_network=qnn,\n",
    "    optimizer=COBYLA(maxiter=1),  # rodar uma iteração por \"epoch\"\n",
    "    loss=CrossEntropyLoss(),\n",
    "    one_hot=True,\n",
    "    callback=lambda weights, loss, step: enviar_circuito_por_epoca(\n",
    "        qc.assign_parameters(weights), step\n",
    "    ),\n",
    ")"
   ]
  },
  {
   "cell_type": "markdown",
   "id": "1e0e12b8",
   "metadata": {},
   "source": [
    "# Treianmento e Métricas"
   ]
  },
  {
   "cell_type": "code",
   "execution_count": null,
   "id": "51952d66",
   "metadata": {},
   "outputs": [],
   "source": [
    "\n",
    "EPOCHS = 3\n",
    "print(\"\\nTREINANDO VQC...\")\n",
    "\n",
    "for epoch in range(EPOCHS):\n",
    "    vqc.fit(X_train, y_train)\n",
    "\n",
    "    y_pred_val = vqc.predict(X_val)\n",
    "    acc_val = accuracy_score(y_val, y_pred_val)\n",
    "    print(f\"[Epoch {epoch+1}] Accuracy validação: {acc_val:.4f}\")\n",
    "\n",
    "y_pred_test = vqc.predict(X_test)\n",
    "print(\"\\nRESULTADOS FINAIS NO TESTE:\")\n",
    "print(\"Acurácia:\", accuracy_score(y_test, y_pred_test))\n",
    "print(classification_report(y_test, y_pred_test))\n"
   ]
  }
 ],
 "metadata": {
  "language_info": {
   "name": "python"
  }
 },
 "nbformat": 4,
 "nbformat_minor": 5
}
