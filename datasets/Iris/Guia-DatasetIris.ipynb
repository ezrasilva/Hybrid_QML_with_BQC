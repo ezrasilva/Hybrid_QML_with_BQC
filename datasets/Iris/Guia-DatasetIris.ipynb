{
 "cells": [
  {
   "cell_type": "markdown",
   "metadata": {},
   "source": [
    "# Blind Quantum Computing\n",
    "\n",
    "Este notebook executa o código de Blind Quantum Computing utilizando Qiskit. O objetivo é demonstrar como rodar experimentos quânticos de forma segura e privada, utilizando um dataset de exemplo (Iris)."
   ]
  },
  {
   "cell_type": "code",
   "execution_count": 14,
   "metadata": {},
   "outputs": [
    {
     "name": "stdout",
     "output_type": "stream",
     "text": [
      "Requirement already satisfied: qiskit in /workspaces/Blind-Quantum-Computing/.venv/lib/python3.12/site-packages (1.4.3)\n",
      "Requirement already satisfied: rustworkx>=0.15.0 in /workspaces/Blind-Quantum-Computing/.venv/lib/python3.12/site-packages (from qiskit) (0.16.0)\n",
      "Requirement already satisfied: numpy<3,>=1.17 in /workspaces/Blind-Quantum-Computing/.venv/lib/python3.12/site-packages (from qiskit) (2.3.1)\n",
      "Requirement already satisfied: scipy>=1.5 in /workspaces/Blind-Quantum-Computing/.venv/lib/python3.12/site-packages (from qiskit) (1.16.0)\n",
      "Requirement already satisfied: sympy>=1.3 in /workspaces/Blind-Quantum-Computing/.venv/lib/python3.12/site-packages (from qiskit) (1.14.0)\n",
      "Requirement already satisfied: dill>=0.3 in /workspaces/Blind-Quantum-Computing/.venv/lib/python3.12/site-packages (from qiskit) (0.4.0)\n",
      "Requirement already satisfied: python-dateutil>=2.8.0 in /workspaces/Blind-Quantum-Computing/.venv/lib/python3.12/site-packages (from qiskit) (2.9.0.post0)\n",
      "Requirement already satisfied: stevedore>=3.0.0 in /workspaces/Blind-Quantum-Computing/.venv/lib/python3.12/site-packages (from qiskit) (5.4.1)\n",
      "Requirement already satisfied: typing-extensions in /workspaces/Blind-Quantum-Computing/.venv/lib/python3.12/site-packages (from qiskit) (4.14.0)\n",
      "Requirement already satisfied: symengine<0.14,>=0.11 in /workspaces/Blind-Quantum-Computing/.venv/lib/python3.12/site-packages (from qiskit) (0.13.0)\n",
      "Requirement already satisfied: six>=1.5 in /workspaces/Blind-Quantum-Computing/.venv/lib/python3.12/site-packages (from python-dateutil>=2.8.0->qiskit) (1.17.0)\n",
      "Requirement already satisfied: pbr>=2.0.0 in /workspaces/Blind-Quantum-Computing/.venv/lib/python3.12/site-packages (from stevedore>=3.0.0->qiskit) (6.1.1)\n",
      "Requirement already satisfied: setuptools in /workspaces/Blind-Quantum-Computing/.venv/lib/python3.12/site-packages (from pbr>=2.0.0->stevedore>=3.0.0->qiskit) (80.9.0)\n",
      "Requirement already satisfied: mpmath<1.4,>=1.1.0 in /workspaces/Blind-Quantum-Computing/.venv/lib/python3.12/site-packages (from sympy>=1.3->qiskit) (1.3.0)\n",
      "Requirement already satisfied: qiskit in /workspaces/Blind-Quantum-Computing/.venv/lib/python3.12/site-packages (1.4.3)\n",
      "Requirement already satisfied: qiskit-machine-learning in /workspaces/Blind-Quantum-Computing/.venv/lib/python3.12/site-packages (0.8.3)\n",
      "Requirement already satisfied: scikit-learn in /workspaces/Blind-Quantum-Computing/.venv/lib/python3.12/site-packages (1.7.0)\n",
      "Requirement already satisfied: torch in /workspaces/Blind-Quantum-Computing/.venv/lib/python3.12/site-packages (2.7.1)\n",
      "Requirement already satisfied: rustworkx>=0.15.0 in /workspaces/Blind-Quantum-Computing/.venv/lib/python3.12/site-packages (from qiskit) (0.16.0)\n",
      "Requirement already satisfied: numpy<3,>=1.17 in /workspaces/Blind-Quantum-Computing/.venv/lib/python3.12/site-packages (from qiskit) (2.3.1)\n",
      "Requirement already satisfied: scipy>=1.5 in /workspaces/Blind-Quantum-Computing/.venv/lib/python3.12/site-packages (from qiskit) (1.16.0)\n",
      "Requirement already satisfied: sympy>=1.3 in /workspaces/Blind-Quantum-Computing/.venv/lib/python3.12/site-packages (from qiskit) (1.14.0)\n",
      "Requirement already satisfied: dill>=0.3 in /workspaces/Blind-Quantum-Computing/.venv/lib/python3.12/site-packages (from qiskit) (0.4.0)\n",
      "Requirement already satisfied: python-dateutil>=2.8.0 in /workspaces/Blind-Quantum-Computing/.venv/lib/python3.12/site-packages (from qiskit) (2.9.0.post0)\n",
      "Requirement already satisfied: stevedore>=3.0.0 in /workspaces/Blind-Quantum-Computing/.venv/lib/python3.12/site-packages (from qiskit) (5.4.1)\n",
      "Requirement already satisfied: typing-extensions in /workspaces/Blind-Quantum-Computing/.venv/lib/python3.12/site-packages (from qiskit) (4.14.0)\n",
      "Requirement already satisfied: symengine<0.14,>=0.11 in /workspaces/Blind-Quantum-Computing/.venv/lib/python3.12/site-packages (from qiskit) (0.13.0)\n",
      "Requirement already satisfied: setuptools>=40.1 in /workspaces/Blind-Quantum-Computing/.venv/lib/python3.12/site-packages (from qiskit-machine-learning) (80.9.0)\n",
      "Requirement already satisfied: joblib>=1.2.0 in /workspaces/Blind-Quantum-Computing/.venv/lib/python3.12/site-packages (from scikit-learn) (1.5.1)\n",
      "Requirement already satisfied: threadpoolctl>=3.1.0 in /workspaces/Blind-Quantum-Computing/.venv/lib/python3.12/site-packages (from scikit-learn) (3.6.0)\n",
      "Requirement already satisfied: filelock in /workspaces/Blind-Quantum-Computing/.venv/lib/python3.12/site-packages (from torch) (3.18.0)\n",
      "Requirement already satisfied: networkx in /workspaces/Blind-Quantum-Computing/.venv/lib/python3.12/site-packages (from torch) (3.5)\n",
      "Requirement already satisfied: jinja2 in /workspaces/Blind-Quantum-Computing/.venv/lib/python3.12/site-packages (from torch) (3.1.6)\n",
      "Requirement already satisfied: fsspec in /workspaces/Blind-Quantum-Computing/.venv/lib/python3.12/site-packages (from torch) (2025.5.1)\n",
      "Requirement already satisfied: nvidia-cuda-nvrtc-cu12==12.6.77 in /workspaces/Blind-Quantum-Computing/.venv/lib/python3.12/site-packages (from torch) (12.6.77)\n",
      "Requirement already satisfied: nvidia-cuda-runtime-cu12==12.6.77 in /workspaces/Blind-Quantum-Computing/.venv/lib/python3.12/site-packages (from torch) (12.6.77)\n",
      "Requirement already satisfied: nvidia-cuda-cupti-cu12==12.6.80 in /workspaces/Blind-Quantum-Computing/.venv/lib/python3.12/site-packages (from torch) (12.6.80)\n",
      "Requirement already satisfied: nvidia-cudnn-cu12==9.5.1.17 in /workspaces/Blind-Quantum-Computing/.venv/lib/python3.12/site-packages (from torch) (9.5.1.17)\n",
      "Requirement already satisfied: nvidia-cublas-cu12==12.6.4.1 in /workspaces/Blind-Quantum-Computing/.venv/lib/python3.12/site-packages (from torch) (12.6.4.1)\n",
      "Requirement already satisfied: nvidia-cufft-cu12==11.3.0.4 in /workspaces/Blind-Quantum-Computing/.venv/lib/python3.12/site-packages (from torch) (11.3.0.4)\n",
      "Requirement already satisfied: nvidia-curand-cu12==10.3.7.77 in /workspaces/Blind-Quantum-Computing/.venv/lib/python3.12/site-packages (from torch) (10.3.7.77)\n",
      "Requirement already satisfied: nvidia-cusolver-cu12==11.7.1.2 in /workspaces/Blind-Quantum-Computing/.venv/lib/python3.12/site-packages (from torch) (11.7.1.2)\n",
      "Requirement already satisfied: nvidia-cusparse-cu12==12.5.4.2 in /workspaces/Blind-Quantum-Computing/.venv/lib/python3.12/site-packages (from torch) (12.5.4.2)\n",
      "Requirement already satisfied: nvidia-cusparselt-cu12==0.6.3 in /workspaces/Blind-Quantum-Computing/.venv/lib/python3.12/site-packages (from torch) (0.6.3)\n",
      "Requirement already satisfied: nvidia-nccl-cu12==2.26.2 in /workspaces/Blind-Quantum-Computing/.venv/lib/python3.12/site-packages (from torch) (2.26.2)\n",
      "Requirement already satisfied: nvidia-nvtx-cu12==12.6.77 in /workspaces/Blind-Quantum-Computing/.venv/lib/python3.12/site-packages (from torch) (12.6.77)\n",
      "Requirement already satisfied: nvidia-nvjitlink-cu12==12.6.85 in /workspaces/Blind-Quantum-Computing/.venv/lib/python3.12/site-packages (from torch) (12.6.85)\n",
      "Requirement already satisfied: nvidia-cufile-cu12==1.11.1.6 in /workspaces/Blind-Quantum-Computing/.venv/lib/python3.12/site-packages (from torch) (1.11.1.6)\n",
      "Requirement already satisfied: triton==3.3.1 in /workspaces/Blind-Quantum-Computing/.venv/lib/python3.12/site-packages (from torch) (3.3.1)\n",
      "Requirement already satisfied: six>=1.5 in /workspaces/Blind-Quantum-Computing/.venv/lib/python3.12/site-packages (from python-dateutil>=2.8.0->qiskit) (1.17.0)\n",
      "Requirement already satisfied: pbr>=2.0.0 in /workspaces/Blind-Quantum-Computing/.venv/lib/python3.12/site-packages (from stevedore>=3.0.0->qiskit) (6.1.1)\n",
      "Requirement already satisfied: mpmath<1.4,>=1.1.0 in /workspaces/Blind-Quantum-Computing/.venv/lib/python3.12/site-packages (from sympy>=1.3->qiskit) (1.3.0)\n",
      "Requirement already satisfied: MarkupSafe>=2.0 in /workspaces/Blind-Quantum-Computing/.venv/lib/python3.12/site-packages (from jinja2->torch) (3.0.2)\n"
     ]
    }
   ],
   "source": [
    "# Instalar dependências\n",
    "!pip install qiskit\n",
    "!pip install qiskit qiskit-machine-learning scikit-learn torch"
   ]
  },
  {
   "cell_type": "code",
   "execution_count": 15,
   "metadata": {},
   "outputs": [],
   "source": [
    "# instalar as bibliotecas necessárias\n",
    "\n",
    "from qiskit import QuantumCircuit\n",
    "from qiskit.circuit.library import ZZFeatureMap, RealAmplitudes\n",
    "from qiskit_machine_learning.neural_networks import EstimatorQNN\n",
    "from qiskit_machine_learning.connectors import TorchConnector\n",
    "from sklearn.model_selection import train_test_split\n",
    "from sklearn.preprocessing import MinMaxScaler\n",
    "from sklearn.datasets import load_iris\n",
    "from sklearn.metrics import accuracy_score, precision_score, recall_score, f1_score\n",
    "import torch\n",
    "import numpy as np\n"
   ]
  },
  {
   "cell_type": "markdown",
   "id": "7053bbdb",
   "metadata": {},
   "source": [
    "# Carrega o conjunto de dados Iris\n",
    "- X → dados (características/features) \n",
    "- y → rótulos (classes/labels)"
   ]
  },
  {
   "cell_type": "code",
   "execution_count": null,
   "id": "cf2f77c5",
   "metadata": {},
   "outputs": [],
   "source": [
    "iris = load_iris()\n",
    "X = iris.data \n",
    "y = iris.target"
   ]
  },
  {
   "cell_type": "markdown",
   "id": "031feca8",
   "metadata": {},
   "source": [
    "# Reduz para duas classes (binário)\n",
    "- o QNN padrão trabalha com 0/1\n",
    "\n",
    "- Por isso, o conjunto Iris foi reduzido para apenas 2 classes, ou seja, só foram usados os exemplos das flores das espécies setosa e versicolor, excluindo a terceira (virginica).\n",
    "- Porém, as características (ou variáveis de entrada) — como comprimento e largura da sépala e da pétala — foram mantidas.\n",
    "- Isso significa que só simplificamos as saídas (as classes), mas não mexemos nas entradas.\n",
    "\n",
    "- Essa decisão foi feita para simplificar o código e permitir um foco mais direto no funcionamento do QML (Quantum Machine Learning) com redes neurais quânticas.\n",
    "- Embora seja possível adaptar o QNN para problemas multiclasse, isso exigiria um código mais avançado "
   ]
  },
  {
   "cell_type": "code",
   "execution_count": 17,
   "id": "ac2e83e1",
   "metadata": {},
   "outputs": [],
   "source": [
    "X = X[y != 2]\n",
    "y = y[y != 2]"
   ]
  },
  {
   "cell_type": "markdown",
   "id": "8e242a67",
   "metadata": {},
   "source": [
    "# Divide os dados \n",
    "80% treino e 20% teste\n",
    "\n",
    "- test_size -> define que 20% dos dados serão usados para teste (logo, 80% vão para treino)\n",
    "- random_state -> os dados são embaralhados aleatoriamente antes de dividir em treino e teste.\n",
    "- stratify -> mantém a mesma proporção de cada classe nos conjuntos de treino e teste (boa prática em classificações)"
   ]
  },
  {
   "cell_type": "code",
   "execution_count": 18,
   "id": "2897adcd",
   "metadata": {},
   "outputs": [],
   "source": [
    "X_train, X_test, y_train, y_test = train_test_split(X, y, test_size=0.2, random_state=42, stratify=y)"
   ]
  },
  {
   "cell_type": "markdown",
   "id": "08049260",
   "metadata": {},
   "source": [
    "# Normaliza os dados\n",
    "- Normalizar = colocar tudo na mesma escala (de 0 a 1).\n",
    "- Isso ajuda o modelo a aprender melhor e evita que uma variável \"grite\" mais que as outras.\n",
    "- ex: Se uma variável vai de 0 a 1000 e outra vai de 0 a 1, a maior domina o aprendizado"
   ]
  },
  {
   "cell_type": "code",
   "execution_count": 19,
   "id": "e0c07bf4",
   "metadata": {},
   "outputs": [],
   "source": [
    "scaler = MinMaxScaler()\n",
    "X_train = scaler.fit_transform(X_train)\n",
    "X_test = scaler.transform(X_test)"
   ]
  },
  {
   "cell_type": "markdown",
   "id": "5c9c481d",
   "metadata": {},
   "source": [
    "# Define número de qubits\n",
    "- Se o conjunto de dados tem 4 features (ex: comprimento da pétala, largura da pétala etc),\n",
    "- então são necessários 4 qubits para representar e processar cada uma dessas features no circuito quântico."
   ]
  },
  {
   "cell_type": "code",
   "execution_count": 20,
   "id": "7c334bdf",
   "metadata": {},
   "outputs": [],
   "source": [
    "num_qubits = X_train.shape[1]"
   ]
  },
  {
   "cell_type": "markdown",
   "id": "9e029039",
   "metadata": {},
   "source": [
    "# Feature map e ansatz\n",
    "- Feature Map → insere as features no circuito quântico\n",
    "- RealAmplitudes → um tipo específico de ansatz do Qiskit, onde ele monta um circuito que trabalha com rotações e entrelaçamento. Isso faz com que ele consiga representar padrões/pesos diferentes nas features. \"onde tem peso para aprender\"\n",
    "\n",
    "- Quantos mais os números de reps crescer mais a chance de overfitting (treinar de uma forma errada)"
   ]
  },
  {
   "cell_type": "code",
   "execution_count": 21,
   "id": "ed8b1169",
   "metadata": {},
   "outputs": [],
   "source": [
    "feature_map = ZZFeatureMap(feature_dimension=num_qubits)\n",
    "ansatz = RealAmplitudes(num_qubits, reps=1)"
   ]
  },
  {
   "cell_type": "markdown",
   "id": "208560c7",
   "metadata": {},
   "source": [
    "# Cria o circuito\n",
    "- etapa que cria um circuito quântico vazio, transforma os dados clássicos (números normais) em um estado quântico e ) e depois coloca o ansatz para o modelo conseguir aprender os padrões/pesos das features.\n"
   ]
  },
  {
   "cell_type": "code",
   "execution_count": 22,
   "id": "7f1b68d0",
   "metadata": {},
   "outputs": [],
   "source": [
    "qc = QuantumCircuit(num_qubits)\n",
    "qc.compose(feature_map, inplace=True)\n",
    "qc.compose(ansatz, inplace=True)"
   ]
  },
  {
   "cell_type": "markdown",
   "id": "011baf03",
   "metadata": {},
   "source": [
    "# EstimatorQNN\n",
    "- Transforma o circuito (qc) em uma rede neural quântica treinável.\n",
    "\n",
    "- E permite treinar ela usando PyTorch, igual uma rede neural clássica."
   ]
  },
  {
   "cell_type": "code",
   "execution_count": 23,
   "id": "5b791e32",
   "metadata": {},
   "outputs": [
    {
     "name": "stderr",
     "output_type": "stream",
     "text": [
      "/tmp/ipykernel_1355/3022605767.py:1: DeprecationWarning: V1 Primitives are deprecated as of qiskit-machine-learning 0.8.0 and will be removed no sooner than 4 months after the release date. Use V2 primitives for continued compatibility and support.\n",
      "  qnn = EstimatorQNN(circuit=qc, input_params=feature_map.parameters, weight_params=ansatz.parameters)\n"
     ]
    }
   ],
   "source": [
    "qnn = EstimatorQNN(circuit=qc, input_params=feature_map.parameters, weight_params=ansatz.parameters) \n",
    "model = TorchConnector(qnn)"
   ]
  },
  {
   "cell_type": "markdown",
   "id": "617ab480",
   "metadata": {},
   "source": [
    "# Otimização com PyTorch\n",
    "- X_train_tensor e y_train_tensor → Convertem os dados de treino (X_train e y_train) de NumPy pra tensor do PyTorch, que é o formato que o modelo entende.\n",
    "\n",
    "- optimizer = torch.optim.Adam(...) → Define o otimizador Adam, que ajusta os pesos do modelo pra minimizar o erro.\n",
    "\n",
    "- lr=0.1 → Taxa de aprendizado (velocidade que ele ajusta os pesos com base nos erros, não pode ser muito alto e não muito baixo).\n",
    "\n",
    "- loss_func = torch.nn.BCELoss() → Função de perda para problemas de classificação binária — mede o erro entre a saída do modelo (probabilidade) e o valor real (0 ou 1)."
   ]
  },
  {
   "cell_type": "code",
   "execution_count": 24,
   "id": "67e13ab7",
   "metadata": {},
   "outputs": [],
   "source": [
    "X_train_tensor = torch.tensor(X_train, dtype=torch.float32)\n",
    "y_train_tensor = torch.tensor(y_train, dtype=torch.float32)\n",
    "\n",
    "optimizer = torch.optim.Adam(model.parameters(), lr=0.1)\n",
    "loss_func = torch.nn.BCELoss()"
   ]
  },
  {
   "cell_type": "markdown",
   "id": "2ce3aeeb",
   "metadata": {},
   "source": [
    "# Treinamento\n",
    "- model.train() → Coloca o modelo no modo treino\n",
    "- optimizer.zero_grad() → Zera os gradientes dos cálculos anteriores pra não acumular.\n",
    "- outputs = model(X_train_tensor) →  usa os dados de treino no modelo para fazer uma previsão/estimativa.\n",
    "- loss → calcula o erro\n",
    "- loss.backward() → Calcula os gradientes, ou seja, descobre pra onde e quanto cada peso deve mudar pra reduzir o erro.\n",
    "- optimizer.step() → usa esses gradientes pra mudar os pesos do ansatz. Ele faz isso pra tentar diminuir o erro na próxima vez que roda"
   ]
  },
  {
   "cell_type": "code",
   "execution_count": 25,
   "id": "d156d576",
   "metadata": {},
   "outputs": [],
   "source": [
    "for epoch in range(20):\n",
    "    model.train()\n",
    "    optimizer.zero_grad()\n",
    "    outputs = model(X_train_tensor)\n",
    "    loss = loss_func(torch.sigmoid(outputs.squeeze()), y_train_tensor)\n",
    "    loss.backward()\n",
    "    optimizer.step()"
   ]
  },
  {
   "cell_type": "markdown",
   "id": "61790019",
   "metadata": {},
   "source": [
    "# Avaliação\n",
    "- Primeiro ele, Faz previsão no conjunto de teste, sem atualizar o modelo.\n",
    "- Transforma saída em probabilidade e decide se é classe 0 ou 1.\n",
    "- Prepara os resultados para análise (cálculo das métricas).\n",
    "# Métricas\n",
    "- Acurácia: porcentagem de previsões corretas (tanto verdadeiros positivos quanto verdadeiros negativos).\n",
    "\n",
    "- Precisão: proporção de previsões positivas que estavam corretas (foca em evitar falsos positivos).\n",
    "\n",
    "- Recall: proporção de casos positivos corretamente identificados (foca em evitar falsos negativos)."
   ]
  },
  {
   "cell_type": "code",
   "execution_count": 26,
   "id": "449f5f0e",
   "metadata": {},
   "outputs": [
    {
     "name": "stdout",
     "output_type": "stream",
     "text": [
      "MÉTRICAS:\n",
      "Acurácia: 0.65\n",
      "Precisão: 0.64\n",
      "Recall: 0.70\n",
      "F1: 0.67\n"
     ]
    }
   ],
   "source": [
    "with torch.no_grad():\n",
    "    outputs = model(torch.tensor(X_test, dtype=torch.float32)).squeeze()\n",
    "    y_pred = torch.sigmoid(outputs).round().numpy()\n",
    "\n",
    "accuracy = accuracy_score(y_test, y_pred)\n",
    "precision = precision_score(y_test, y_pred)\n",
    "recall = recall_score(y_test, y_pred)\n",
    "f1 = f1_score(y_test, y_pred)\n",
    "\n",
    "print(\"MÉTRICAS:\")\n",
    "print(f\"Acurácia: {accuracy:.2f}\")\n",
    "print(f\"Precisão: {precision:.2f}\")\n",
    "print(f\"Recall: {recall:.2f}\")\n",
    "print(f\"F1: {f1:.2f}\")"
   ]
  },
  {
   "cell_type": "markdown",
   "id": "dd969493",
   "metadata": {},
   "source": [
    "## Conclusões e próximos passos\n",
    "\n",
    "- O experimento de Blind Quantum Computing foi executado com sucesso.\n",
    "- Próximos passos podem incluir: testar outros datasets, aprimorar o circuito quântico, ou analisar a segurança do protocolo."
   ]
  }
 ],
 "metadata": {
  "kernelspec": {
   "display_name": ".venv",
   "language": "python",
   "name": "python3"
  },
  "language_info": {
   "codemirror_mode": {
    "name": "ipython",
    "version": 3
   },
   "file_extension": ".py",
   "mimetype": "text/x-python",
   "name": "python",
   "nbconvert_exporter": "python",
   "pygments_lexer": "ipython3",
   "version": "3.12.1"
  }
 },
 "nbformat": 4,
 "nbformat_minor": 5
}
